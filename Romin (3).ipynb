{
 "cells": [
  {
   "cell_type": "code",
   "execution_count": 1,
   "metadata": {},
   "outputs": [
    {
     "name": "stdout",
     "output_type": "stream",
     "text": [
      "hello\n"
     ]
    }
   ],
   "source": [
    "print(\"hello\")"
   ]
  },
  {
   "cell_type": "code",
   "execution_count": 10,
   "metadata": {},
   "outputs": [
    {
     "name": "stdout",
     "output_type": "stream",
     "text": [
      "  \n",
      "        my self romin,\n",
      "        learning engineering from LJ\n",
      "        \n"
     ]
    }
   ],
   "source": [
    "# print(\"apple\")\n",
    "print(\"\"\"  \n",
    "        my self romin,\n",
    "        learning engineering from LJ\n",
    "        \"\"\")"
   ]
  },
  {
   "cell_type": "code",
   "execution_count": 13,
   "metadata": {},
   "outputs": [
    {
     "name": "stdout",
     "output_type": "stream",
     "text": [
      "20 10\n"
     ]
    }
   ],
   "source": [
    "a = 10\n",
    "b = 20\n",
    "a,b = b,a\n",
    "print(a,b)"
   ]
  },
  {
   "cell_type": "code",
   "execution_count": 18,
   "metadata": {},
   "outputs": [
    {
     "name": "stdout",
     "output_type": "stream",
     "text": [
      "<class 'bool'>\n"
     ]
    }
   ],
   "source": [
    "a = 1\n",
    "b = 2\n",
    "print(type(a==b))"
   ]
  },
  {
   "cell_type": "code",
   "execution_count": 38,
   "metadata": {},
   "outputs": [
    {
     "name": "stdout",
     "output_type": "stream",
     "text": [
      "enter name: romin\n",
      "enter Mobile Number: 989\n",
      "your data: romin 989.0\n",
      "<class 'str'>\n",
      "<class 'float'>\n"
     ]
    }
   ],
   "source": [
    "name = input('enter name: ')\n",
    "mobileNumber = (float(input('enter Mobile Number: ')))\n",
    "\n",
    "print('your data: ' + name , mobileNumber)\n",
    "print(type(name))\n",
    "\n",
    "print(type(mobileNumber))\n"
   ]
  },
  {
   "cell_type": "code",
   "execution_count": 37,
   "metadata": {},
   "outputs": [
    {
     "name": "stdout",
     "output_type": "stream",
     "text": [
      "sum is: good morning\n",
      "sum is: good morning\n"
     ]
    }
   ],
   "source": [
    "a = \"good\"\n",
    "b = \"morning\"\n",
    "c = a + \" \" + b\n",
    "print(\"sum is: \"+ c)\n",
    "print(\"sum is: \"+ c)\n"
   ]
  },
  {
   "cell_type": "code",
   "execution_count": 53,
   "metadata": {},
   "outputs": [
    {
     "name": "stdout",
     "output_type": "stream",
     "text": [
      "<class 'str'>\n",
      "<class 'int'>\n",
      "<class 'str'>\n"
     ]
    }
   ],
   "source": [
    "print(type('10'))\n",
    "a=int('10')\n",
    "print(type(a))\n",
    "\n",
    "print(type('A'))"
   ]
  },
  {
   "cell_type": "code",
   "execution_count": 57,
   "metadata": {},
   "outputs": [
    {
     "name": "stdout",
     "output_type": "stream",
     "text": [
      "1\n"
     ]
    }
   ],
   "source": [
    "print(int(True))"
   ]
  },
  {
   "cell_type": "code",
   "execution_count": 63,
   "metadata": {},
   "outputs": [
    {
     "name": "stdout",
     "output_type": "stream",
     "text": [
      "5.714285714285714\n"
     ]
    }
   ],
   "source": [
    "print(20//3.5)"
   ]
  },
  {
   "cell_type": "code",
   "execution_count": 65,
   "metadata": {},
   "outputs": [
    {
     "name": "stdout",
     "output_type": "stream",
     "text": [
      "6.666666666666667\n"
     ]
    }
   ],
   "source": [
    "print(20/3.0)"
   ]
  },
  {
   "cell_type": "code",
   "execution_count": 66,
   "metadata": {},
   "outputs": [
    {
     "name": "stdout",
     "output_type": "stream",
     "text": [
      "True\n"
     ]
    }
   ],
   "source": [
    "print(10 == 10.0)\n",
    "print"
   ]
  },
  {
   "cell_type": "code",
   "execution_count": 74,
   "metadata": {},
   "outputs": [
    {
     "name": "stdout",
     "output_type": "stream",
     "text": [
      "20\n",
      "10\n",
      "10\n",
      "1\n"
     ]
    }
   ],
   "source": [
    "print(10 and 20)\n",
    "print(10 or 20)\n",
    "\n",
    "print(0 or 10)\n",
    "print('0' and '1')"
   ]
  },
  {
   "cell_type": "code",
   "execution_count": 76,
   "metadata": {},
   "outputs": [
    {
     "data": {
      "text/plain": [
       "True"
      ]
     },
     "execution_count": 76,
     "metadata": {},
     "output_type": "execute_result"
    }
   ],
   "source": [
    "not 10\n",
    "not 0"
   ]
  },
  {
   "cell_type": "code",
   "execution_count": 10,
   "metadata": {},
   "outputs": [
    {
     "name": "stdout",
     "output_type": "stream",
     "text": [
      "4.857142857142857\n"
     ]
    }
   ],
   "source": [
    "print(34/7)"
   ]
  },
  {
   "cell_type": "code",
   "execution_count": 12,
   "metadata": {},
   "outputs": [
    {
     "name": "stdout",
     "output_type": "stream",
     "text": [
      "10000000000\n"
     ]
    }
   ],
   "source": [
    "x = 10\n",
    "x **= 10\n",
    "print(x)"
   ]
  },
  {
   "cell_type": "code",
   "execution_count": 13,
   "metadata": {},
   "outputs": [
    {
     "name": "stdout",
     "output_type": "stream",
     "text": [
      "35\n"
     ]
    }
   ],
   "source": [
    "a , b  = 10 , 20\n",
    "x = 50 if a>b else 35\n",
    "print(x)"
   ]
  },
  {
   "cell_type": "code",
   "execution_count": 17,
   "metadata": {},
   "outputs": [
    {
     "name": "stdout",
     "output_type": "stream",
     "text": [
      "True\n"
     ]
    }
   ],
   "source": [
    "s = \"hello python\"\n",
    "# print('i' in s)\n",
    "# print('he' in s)\n",
    "# print(' ' in s)\n"
   ]
  },
  {
   "cell_type": "code",
   "execution_count": 20,
   "metadata": {},
   "outputs": [
    {
     "name": "stdout",
     "output_type": "stream",
     "text": [
      "True\n",
      "False\n"
     ]
    }
   ],
   "source": [
    "a = 10\n",
    "b = 20\n",
    "print(a is not b)\n",
    "print(a is b)"
   ]
  },
  {
   "cell_type": "code",
   "execution_count": 21,
   "metadata": {},
   "outputs": [],
   "source": [
    "# ()\n",
    "# **\n",
    "# bitwise complement     (not in syllabus)\n",
    "# * , / , // , %\n",
    "# + , -\n",
    "# << , >> \n",
    "# & , ^ , |              (not in syllabus)\n",
    "# relational operation\n",
    "# assignment\n",
    "# identity               (not in syllabus)\n",
    "# membership(in , not in)\n",
    "# not , and , or (logical)"
   ]
  },
  {
   "cell_type": "code",
   "execution_count": 30,
   "metadata": {},
   "outputs": [
    {
     "name": "stdout",
     "output_type": "stream",
     "text": [
      "11.0\n",
      "True\n",
      "True\n",
      "62.5\n"
     ]
    }
   ],
   "source": [
    "print(6 + 5 - 4 * 3 / 2 % 1)\n",
    "print(6==6.0)\n",
    "print(5 and True or 3/0)\n",
    "print(625/10)"
   ]
  },
  {
   "cell_type": "code",
   "execution_count": 32,
   "metadata": {},
   "outputs": [
    {
     "name": "stdout",
     "output_type": "stream",
     "text": [
      "122\n",
      "90\n"
     ]
    }
   ],
   "source": [
    "print(ord('z'))\n",
    "print(ord('Z'))"
   ]
  },
  {
   "cell_type": "code",
   "execution_count": 36,
   "metadata": {},
   "outputs": [
    {
     "name": "stdout",
     "output_type": "stream",
     "text": [
      "b\n",
      "\\\n",
      "d\n"
     ]
    }
   ],
   "source": [
    "print(chr(98))\n",
    "print (chr(92))\n",
    "\n",
    "x = chr(100)\n",
    "print(x)"
   ]
  },
  {
   "cell_type": "code",
   "execution_count": null,
   "metadata": {},
   "outputs": [],
   "source": [
    "import math\n",
    "x = math.sqrt(88)\n",
    "print(x)\n",
    "\n",
    "radius = 3\n",
    "print(\"area:\" , math.pi * radius ** 2)"
   ]
  },
  {
   "cell_type": "code",
   "execution_count": 62,
   "metadata": {},
   "outputs": [
    {
     "name": "stdout",
     "output_type": "stream",
     "text": [
      "enter seconds: 3665\n",
      "hr : min : sec : 1 : 1  :  5\n"
     ]
    }
   ],
   "source": [
    "# seconds into hour , minute\n",
    "sec = (int)(input(\"enter seconds: \"))\n",
    "\n",
    "hour   = sec // 3600\n",
    "sec    = sec %  3600\n",
    "minute = sec // 60\n",
    "sec    = sec %  60\n",
    "\n",
    "\n",
    "print(\"hr : min : sec :\" , hour , ':' , minute , ' : ' , sec )\n",
    "\n"
   ]
  },
  {
   "cell_type": "code",
   "execution_count": 61,
   "metadata": {},
   "outputs": [
    {
     "name": "stdout",
     "output_type": "stream",
     "text": [
      "20 10\n"
     ]
    }
   ],
   "source": [
    "a , b = 10 , 20\n",
    "\n",
    "a = a + b\n",
    "b = a - b\n",
    "a = a - b\n",
    "\n",
    "print(a , b)"
   ]
  },
  {
   "cell_type": "code",
   "execution_count": 67,
   "metadata": {},
   "outputs": [
    {
     "name": "stdout",
     "output_type": "stream",
     "text": [
      "prince\n"
     ]
    }
   ],
   "source": [
    "x = 5\n",
    "\n",
    "if x == 6:\n",
    "    print(\"romin\")\n",
    "    print(\"jenish\")\n",
    "elif x == 5:\n",
    "    print(\"prince\")"
   ]
  },
  {
   "cell_type": "code",
   "execution_count": 83,
   "metadata": {},
   "outputs": [
    {
     "name": "stdout",
     "output_type": "stream",
     "text": [
      "enter marks: 90\n",
      "grade is A\n"
     ]
    }
   ],
   "source": [
    "# write a py programme to get marks from the user and give grade according to following distribution\n",
    "\n",
    "marks = (int)(input(\"enter marks: \"))\n",
    "\n",
    "if (marks >= 80 and marks <= 100):\n",
    "    print(\"grade is A\")\n",
    "elif (marks >= 60 and marks <= 79):\n",
    "    print(\"grade is B\")\n",
    "elif (marks >= 35 and marks <= 59):\n",
    "    print(\"grade is C\")\n",
    "elif (marks >= 0 and marks <= 0):\n",
    "    print(\"grade is D\")\n",
    "else: \n",
    "    print(\"not valid number\")"
   ]
  },
  {
   "cell_type": "code",
   "execution_count": 94,
   "metadata": {},
   "outputs": [
    {
     "name": "stdout",
     "output_type": "stream",
     "text": [
      "enter num1: 14\n",
      "enter num2: 12\n",
      "enter num3: -942\n",
      "num1 is max\n"
     ]
    }
   ],
   "source": [
    "a = (int)(input(\"enter num1: \"))\n",
    "b = (int)(input(\"enter num2: \"))\n",
    "c = (int)(input(\"enter num3: \"))\n",
    "\n",
    "if a > b:\n",
    "    if a > c:\n",
    "        print('num1 is max')\n",
    "    else:\n",
    "        print('num3 is max')\n",
    "elif b > a:\n",
    "    if b > c:\n",
    "        print('num2 is max')\n",
    "    else:\n",
    "        print('num3 is max')\n",
    "        "
   ]
  },
  {
   "cell_type": "code",
   "execution_count": 5,
   "metadata": {},
   "outputs": [
    {
     "name": "stdout",
     "output_type": "stream",
     "text": [
      "enter num1: 2\n",
      "enter num2: 2\n",
      "enter num3: 2\n",
      "enter correct number\n",
      "ascending order: 0 0 0\n",
      "descending order: 0 0 0\n"
     ]
    }
   ],
   "source": [
    "# write a py programme to arrange 3 numbers in asc and desc order. 3 number from user\n",
    "\n",
    "\n",
    "x,y,z=0,0,0\n",
    "\n",
    "if a<b and b<c:\n",
    "    if b<c:\n",
    "        x,y,z = a,b,c\n",
    "    else: \n",
    "        x,y,z = a,c,b\n",
    "elif b<c and b<a:\n",
    "    if a<c:\n",
    "        x,y,z = b,a,c\n",
    "    else:\n",
    "        x,y,z = b,c,a\n",
    "elif c<a and c<b:\n",
    "    if a<b:\n",
    "        x,y,z = c,a,b\n",
    "    else:\n",
    "        x,y,z = c,b,a\n",
    "else:\n",
    "    print(\"enter correct number\")\n",
    "    \n",
    "print(\"ascending order:\" , x,y,z)\n",
    "print(\"descending order:\" , z,y,x)\n",
    "\n",
    "\n"
   ]
  },
  {
   "cell_type": "code",
   "execution_count": 16,
   "metadata": {},
   "outputs": [
    {
     "name": "stdout",
     "output_type": "stream",
     "text": [
      "enter num1: 5\n",
      "enter num2: 6\n",
      "enter operation sign: //\n",
      "division is: 0\n"
     ]
    }
   ],
   "source": [
    "# wap to create calculator get a two number from user and also get a sign from a user which operation he/she want to do\n",
    "\n",
    "a = (int)(input(\"enter num1: \"))\n",
    "b = (int)(input(\"enter num2: \"))\n",
    "c = input(\"enter operation sign: \")\n",
    "\n",
    "if c==\"+\":\n",
    "    print(\"summation is: \" , a+b)\n",
    "elif c==\"-\":\n",
    "    print(\"subtraction is:\", a-b)\n",
    "elif c=='*':\n",
    "    print(\"multiplication is:\" , a*b)\n",
    "elif c=='//':\n",
    "    print(\"division is:\" , a//b)"
   ]
  },
  {
   "cell_type": "code",
   "execution_count": 23,
   "metadata": {},
   "outputs": [
    {
     "name": "stdout",
     "output_type": "stream",
     "text": [
      "enter date: -20\n",
      "enter month: 2\n",
      "enter year: 2500\n",
      "date is invalid\n"
     ]
    }
   ],
   "source": [
    "# to check whether the entered date is valid or not , if the date is valid than give the incremented date\n",
    "date = (int)(input(\"enter date: \"))\n",
    "month = (int)(input(\"enter month: \"))\n",
    "year = (int)(input(\"enter year: \"))\n",
    "\n",
    "if (month==1 or month==3 or month==5 or month==7 or month==8 or month==10 or month==12):\n",
    "    max1=31\n",
    "elif (month == 4 or month == 6 or month == 9 or month == 11):\n",
    "    max1=30\n",
    "elif (year%4==0 and year%100!=0 or year%400==0):\n",
    "    max1=29\n",
    "else:\n",
    "    max1=28\n",
    "    \n",
    "if month < 1 or month > 12:\n",
    "    print('date is invalid')\n",
    "elif date < 1 or date > max1:\n",
    "    print('date is invalid')\n",
    "elif date == max1 and month != 12:\n",
    "    date = 1\n",
    "    month = month + 1\n",
    "    print('next date=' , date , month , year)\n",
    "elif date == max1 and month == 12:\n",
    "    date = 1\n",
    "    month = 1\n",
    "    year = year + 1\n",
    "    print('next date=' , date , month , year)\n",
    "else:\n",
    "    date = date + 1\n",
    "    print('next date=' , date , month , year)\n",
    "\n",
    "\n",
    "\n",
    "    "
   ]
  },
  {
   "cell_type": "code",
   "execution_count": 32,
   "metadata": {},
   "outputs": [
    {
     "name": "stdout",
     "output_type": "stream",
     "text": [
      "enter cents: 234\n",
      "9 quarter,1 nickle,4 penny\n"
     ]
    }
   ],
   "source": [
    "# wap to calculate number of basic american coins given value less than 1$ = 100cents ,  25cents = 1 quarter , 10cents = 1 dime , 5 cents = 1 nickle , 1 cent = 1 penny\n",
    "cents = int(input(\"enter cents: \"))\n",
    "\n",
    "quarter = 0\n",
    "dime = 0 \n",
    "nickle = 0\n",
    "penny = 0\n",
    "\n",
    "\n",
    "if cents > 25:\n",
    "    quarter = cents // 25\n",
    "    cents = cents % 25\n",
    "    print(quarter , 'quarter' , end=',')\n",
    "if cents >= 10:\n",
    "    dime = cents//10\n",
    "    cents = cents % 10\n",
    "    print(dime , 'dime' , end=',')\n",
    "if cents > 5:\n",
    "    nickle = cents//5\n",
    "    cents = cents % 5\n",
    "    print(nickle , 'nickle' , end=',')\n",
    "if cents >=1:\n",
    "    penny = cents\n",
    "    print(penny,'penny')\n"
   ]
  },
  {
   "cell_type": "code",
   "execution_count": 3,
   "metadata": {},
   "outputs": [
    {
     "name": "stdout",
     "output_type": "stream",
     "text": [
      "enter vehicle type number\n",
      "                           1. truck\n",
      "                           2. car\n",
      "                           3. two wheelrs2\n",
      "enter entry hour: 3\n",
      "enter entry minute: 0\n",
      "enter exit hour: 5\n",
      "enter exit minute: 0\n",
      "rate rs= 50\n"
     ]
    }
   ],
   "source": [
    "# wap to calculate parking fees as per the entry and exit time, get entry and exit time in 24 hours times from user and fees are as following\n",
    "\n",
    "vehicle = (int(input(\"\"\"enter vehicle type number\n",
    "                           1. truck\n",
    "                           2. car\n",
    "                           3. two wheelrs\"\"\")))\n",
    "entry_hr = (int)(input(\"enter entry hour: \"))\n",
    "entry_min = (int)(input(\"enter entry minute: \"))\n",
    "exit_hr = (int)(input(\"enter exit hour: \"))\n",
    "exit_min = (int)(input(\"enter exit minute: \"))\n",
    "\n",
    "if exit_hr < entry_hr:\n",
    "    exit_hr = exit_hr + 24\n",
    "\n",
    "parking_time_hr = (exit_hr - entry_hr)\n",
    "parking_time_min = (exit_min - entry_min)\n",
    "\n",
    "if parking_time_hr < 3 or (parking_time_hr == 3 and parking_time_min <= 0):\n",
    "    if vehicle == 1:\n",
    "        rate = 100\n",
    "    elif vehicle == 2:\n",
    "        rate = 50\n",
    "    else:\n",
    "        rate = 30\n",
    "elif parking_time_hr > 3 or (parking_time_hr == 3 and parking_time_min > 0):\n",
    "    if vehicle == 1:\n",
    "        rate = 150\n",
    "    elif vehicle == 2:\n",
    "        rate = 100\n",
    "    else:\n",
    "        rate = 50\n",
    "else:\n",
    "    print('enter time properly')\n",
    "print('rate rs=' , rate)\n",
    "\n"
   ]
  },
  {
   "cell_type": "code",
   "execution_count": 19,
   "metadata": {},
   "outputs": [
    {
     "name": "stdout",
     "output_type": "stream",
     "text": [
      "0,1,2,3,4,5,6,7,8,9,10,apple mango\n",
      "apple mango\n",
      "apple mango\n",
      "apple mango\n",
      "apple mango\n",
      "apple mango\n",
      "apple mango\n",
      "apple mango\n",
      "apple mango\n",
      "apple mango\n",
      "apple mango\n",
      "1\n",
      "4\n",
      "7\n",
      "10\n",
      "13\n",
      "16\n",
      "19\n"
     ]
    }
   ],
   "source": [
    "for i in range(11):\n",
    "    print(i, end=',')\n",
    "    \n",
    "s = 'apple mango'\n",
    "for i in s:\n",
    "    print(s)\n",
    "\n",
    "for i in range(1,20,3):\n",
    "    print(i)"
   ]
  },
  {
   "cell_type": "code",
   "execution_count": null,
   "metadata": {},
   "outputs": [],
   "source": []
  }
 ],
 "metadata": {
  "kernelspec": {
   "display_name": "Python 3",
   "language": "python",
   "name": "python3"
  },
  "language_info": {
   "codemirror_mode": {
    "name": "ipython",
    "version": 3
   },
   "file_extension": ".py",
   "mimetype": "text/x-python",
   "name": "python",
   "nbconvert_exporter": "python",
   "pygments_lexer": "ipython3",
   "version": "3.8.5"
  }
 },
 "nbformat": 4,
 "nbformat_minor": 4
}
