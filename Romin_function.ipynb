{
 "cells": [
  {
   "cell_type": "code",
   "execution_count": 39,
   "metadata": {},
   "outputs": [],
   "source": [
    "def addition(a,b):\n",
    "    return a+b\n",
    "\n",
    "# print(addition(10,20))      \n",
    "\n",
    "\n",
    "def subtraction(a,b):\n",
    "    return print(a-b)\n",
    "\n",
    "# print(subtraction(10,20))\n",
    "\n",
    "\n",
    "def data(name):\n",
    "    return name\n",
    "\n",
    "# print(data('romin'))\n",
    "\n",
    "\n"
   ]
  },
  {
   "cell_type": "code",
   "execution_count": 40,
   "metadata": {},
   "outputs": [
    {
     "name": "stdout",
     "output_type": "stream",
     "text": [
      "30 -10 200 0\n",
      "(15, 5, 50, 2)\n",
      "15 5 50 2 \n",
      "hello python\n",
      "    hello full stack\n",
      "    byby java\n"
     ]
    }
   ],
   "source": [
    "def cal(a , b):\n",
    "    \"\"\"hello python\n",
    "    hello full stack\n",
    "    byby java\"\"\"\n",
    "    sum = a + b\n",
    "    sub = a - b\n",
    "    mul = a * b\n",
    "    div = a//b\n",
    "    return sum , sub , mul , div\n",
    "\n",
    "d,e,f,g = cal(10,20)\n",
    "print(d , e , f , g)\n",
    "    \n",
    "t = cal(10,5)\n",
    "print(t)\n",
    "\n",
    "for i in t:\n",
    "    print(i , end=' ')\n",
    "    \n",
    "print()\n",
    "\n",
    "print(cal.__doc__)"
   ]
  },
  {
   "cell_type": "code",
   "execution_count": 49,
   "metadata": {},
   "outputs": [
    {
     "name": "stdout",
     "output_type": "stream",
     "text": [
      "hello RPK GM\n",
      "hello RPK GM\n",
      "hello RPK GM\n"
     ]
    }
   ],
   "source": [
    "# keyword argument\n",
    "\n",
    "def wish(name , msg):\n",
    "    print('hello' , name , msg)\n",
    "wish(name='RPK' , msg='GM')\n",
    "wish(msg='GM' , name='RPK')\n",
    "wish('RPK' , msg = 'GM')\n",
    "wish(msg = 'GM' , 'RPK')"
   ]
  },
  {
   "cell_type": "code",
   "execution_count": 50,
   "metadata": {},
   "outputs": [
    {
     "name": "stdout",
     "output_type": "stream",
     "text": [
      "hello guest\n",
      "hello RPK\n"
     ]
    }
   ],
   "source": [
    "# default argument\n",
    "\n",
    "def wish(name='guest'):\n",
    "    print('hello' , name)\n",
    "wish()\n",
    "wish('RPK')"
   ]
  },
  {
   "cell_type": "code",
   "execution_count": 51,
   "metadata": {},
   "outputs": [],
   "source": [
    "def wish(name = 'guest', msg='GM'):\n",
    "    print(name , msg)\n",
    "    \n"
   ]
  },
  {
   "cell_type": "code",
   "execution_count": 52,
   "metadata": {},
   "outputs": [
    {
     "name": "stdout",
     "output_type": "stream",
     "text": [
      "(10,)\n",
      "1\n",
      "(10, 20, 30, 40)\n",
      "4\n"
     ]
    }
   ],
   "source": [
    "# variable length argument\n",
    "def s1(*s): \n",
    "    t = 0\n",
    "    print(s)\n",
    "    for i in s:\n",
    "        t = t + 1\n",
    "    print(t)\n",
    "s1(10)\n",
    "s1(10,20,30,40)\n"
   ]
  },
  {
   "cell_type": "code",
   "execution_count": 53,
   "metadata": {},
   "outputs": [
    {
     "name": "stdout",
     "output_type": "stream",
     "text": [
      "10\n",
      "()\n",
      "10\n",
      "(20, 'a', 'b')\n"
     ]
    }
   ],
   "source": [
    "def s1(n1 , *s):\n",
    "    print(n1)\n",
    "    print(s)\n",
    "s1(10)\n",
    "s1(10 , 20 , 'a' , 'b')"
   ]
  },
  {
   "cell_type": "code",
   "execution_count": 57,
   "metadata": {},
   "outputs": [
    {
     "name": "stdout",
     "output_type": "stream",
     "text": [
      "40\n",
      "(10, 20, 30)\n"
     ]
    }
   ],
   "source": [
    "def s1(*s , n1):\n",
    "    print(n1)\n",
    "    print(s)\n",
    "# s1(10,20,30)\n",
    "s1(10,20,30,n1=40)"
   ]
  },
  {
   "cell_type": "code",
   "execution_count": 60,
   "metadata": {},
   "outputs": [
    {
     "name": "stdout",
     "output_type": "stream",
     "text": [
      "{'m1': 100, 'm2': 200, 'm3': 300}\n",
      "m1 = 100\n",
      "m2 = 200\n",
      "m3 = 300\n"
     ]
    }
   ],
   "source": [
    "# dictionary\n",
    "def s1(**n1):\n",
    "    print(n1)\n",
    "    \n",
    "    for k,v in n1.items():\n",
    "        print(k , '=' , v)\n",
    "s1(m1 = 100 , m2 = 200 , m3 = 300)"
   ]
  },
  {
   "cell_type": "code",
   "execution_count": 66,
   "metadata": {},
   "outputs": [
    {
     "name": "stdout",
     "output_type": "stream",
     "text": [
      "10\n",
      "30\n",
      "30\n"
     ]
    }
   ],
   "source": [
    "# local vs global ki kahani\n",
    "\n",
    "b = 30\n",
    "\n",
    "def f1():\n",
    "    b = 10\n",
    "    print(b)\n",
    "def f2():\n",
    "    print(b)\n",
    "    \n",
    "f1()\n",
    "f2()\n",
    "print(b)"
   ]
  },
  {
   "cell_type": "code",
   "execution_count": 2,
   "metadata": {},
   "outputs": [
    {
     "name": "stdout",
     "output_type": "stream",
     "text": [
      "10\n"
     ]
    },
    {
     "ename": "NameError",
     "evalue": "name 'b' is not defined",
     "output_type": "error",
     "traceback": [
      "\u001b[1;31m---------------------------------------------------------------------------\u001b[0m",
      "\u001b[1;31mNameError\u001b[0m                                 Traceback (most recent call last)",
      "\u001b[1;32m<ipython-input-2-6d87fea572b2>\u001b[0m in \u001b[0;36m<module>\u001b[1;34m\u001b[0m\n\u001b[0;32m      6\u001b[0m \u001b[1;33m\u001b[0m\u001b[0m\n\u001b[0;32m      7\u001b[0m \u001b[0mf1\u001b[0m\u001b[1;33m(\u001b[0m\u001b[1;33m)\u001b[0m\u001b[1;33m\u001b[0m\u001b[1;33m\u001b[0m\u001b[0m\n\u001b[1;32m----> 8\u001b[1;33m \u001b[0mf2\u001b[0m\u001b[1;33m(\u001b[0m\u001b[1;33m)\u001b[0m\u001b[1;33m\u001b[0m\u001b[1;33m\u001b[0m\u001b[0m\n\u001b[0m",
      "\u001b[1;32m<ipython-input-2-6d87fea572b2>\u001b[0m in \u001b[0;36mf2\u001b[1;34m()\u001b[0m\n\u001b[0;32m      3\u001b[0m     \u001b[0mprint\u001b[0m\u001b[1;33m(\u001b[0m\u001b[0mb\u001b[0m\u001b[1;33m)\u001b[0m\u001b[1;33m\u001b[0m\u001b[1;33m\u001b[0m\u001b[0m\n\u001b[0;32m      4\u001b[0m \u001b[1;32mdef\u001b[0m \u001b[0mf2\u001b[0m\u001b[1;33m(\u001b[0m\u001b[1;33m)\u001b[0m\u001b[1;33m:\u001b[0m\u001b[1;33m\u001b[0m\u001b[1;33m\u001b[0m\u001b[0m\n\u001b[1;32m----> 5\u001b[1;33m     \u001b[0mprint\u001b[0m\u001b[1;33m(\u001b[0m\u001b[0mb\u001b[0m\u001b[1;33m)\u001b[0m\u001b[1;33m\u001b[0m\u001b[1;33m\u001b[0m\u001b[0m\n\u001b[0m\u001b[0;32m      6\u001b[0m \u001b[1;33m\u001b[0m\u001b[0m\n\u001b[0;32m      7\u001b[0m \u001b[0mf1\u001b[0m\u001b[1;33m(\u001b[0m\u001b[1;33m)\u001b[0m\u001b[1;33m\u001b[0m\u001b[1;33m\u001b[0m\u001b[0m\n",
      "\u001b[1;31mNameError\u001b[0m: name 'b' is not defined"
     ]
    }
   ],
   "source": [
    "def f1():\n",
    "    b = 10\n",
    "    print(b)\n",
    "def f2():\n",
    "    print(b)\n",
    "    \n",
    "f1()\n",
    "f2()"
   ]
  },
  {
   "cell_type": "code",
   "execution_count": 2,
   "metadata": {},
   "outputs": [
    {
     "name": "stdout",
     "output_type": "stream",
     "text": [
      "120\n"
     ]
    }
   ],
   "source": [
    "# recursion\n",
    "def factorial(x):\n",
    "    if x == 1:\n",
    "        return 1\n",
    "    else:\n",
    "        return (x * factorial(x-1))\n",
    "print(factorial(5))"
   ]
  },
  {
   "cell_type": "code",
   "execution_count": 6,
   "metadata": {},
   "outputs": [
    {
     "name": "stdout",
     "output_type": "stream",
     "text": [
      "3\n",
      "3\n",
      "2\n",
      "6\n"
     ]
    }
   ],
   "source": [
    "def n1(a):\n",
    "    print(a)\n",
    "    def n2(b):\n",
    "        print(a)\n",
    "        print(b)\n",
    "        return a*b\n",
    "    return n2\n",
    "print(n1(3)(2))"
   ]
  },
  {
   "cell_type": "code",
   "execution_count": null,
   "metadata": {},
   "outputs": [],
   "source": []
  }
 ],
 "metadata": {
  "kernelspec": {
   "display_name": "Python 3",
   "language": "python",
   "name": "python3"
  },
  "language_info": {
   "codemirror_mode": {
    "name": "ipython",
    "version": 3
   },
   "file_extension": ".py",
   "mimetype": "text/x-python",
   "name": "python",
   "nbconvert_exporter": "python",
   "pygments_lexer": "ipython3",
   "version": "3.8.5"
  }
 },
 "nbformat": 4,
 "nbformat_minor": 4
}
