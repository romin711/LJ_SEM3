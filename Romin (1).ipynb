{
 "cells": [
  {
   "cell_type": "code",
   "execution_count": 1,
   "metadata": {},
   "outputs": [
    {
     "name": "stdout",
     "output_type": "stream",
     "text": [
      "hello\n"
     ]
    }
   ],
   "source": [
    "print(\"hello\")"
   ]
  },
  {
   "cell_type": "code",
   "execution_count": 10,
   "metadata": {},
   "outputs": [
    {
     "name": "stdout",
     "output_type": "stream",
     "text": [
      "  \n",
      "        my self romin,\n",
      "        learning engineering from LJ\n",
      "        \n"
     ]
    }
   ],
   "source": [
    "# print(\"apple\")\n",
    "print(\"\"\"  \n",
    "        my self romin,\n",
    "        learning engineering from LJ\n",
    "        \"\"\")"
   ]
  },
  {
   "cell_type": "code",
   "execution_count": 13,
   "metadata": {},
   "outputs": [
    {
     "name": "stdout",
     "output_type": "stream",
     "text": [
      "20 10\n"
     ]
    }
   ],
   "source": [
    "a = 10\n",
    "b = 20\n",
    "a,b = b,a\n",
    "print(a,b)"
   ]
  },
  {
   "cell_type": "code",
   "execution_count": 18,
   "metadata": {},
   "outputs": [
    {
     "name": "stdout",
     "output_type": "stream",
     "text": [
      "<class 'bool'>\n"
     ]
    }
   ],
   "source": [
    "a = 1\n",
    "b = 2\n",
    "print(type(a==b))"
   ]
  },
  {
   "cell_type": "code",
   "execution_count": 38,
   "metadata": {},
   "outputs": [
    {
     "name": "stdout",
     "output_type": "stream",
     "text": [
      "enter name: romin\n",
      "enter Mobile Number: 989\n",
      "your data: romin 989.0\n",
      "<class 'str'>\n",
      "<class 'float'>\n"
     ]
    }
   ],
   "source": [
    "name = input('enter name: ')\n",
    "mobileNumber = (float(input('enter Mobile Number: ')))\n",
    "\n",
    "print('your data: ' + name , mobileNumber)\n",
    "print(type(name))\n",
    "\n",
    "print(type(mobileNumber))\n"
   ]
  },
  {
   "cell_type": "code",
   "execution_count": 37,
   "metadata": {},
   "outputs": [
    {
     "name": "stdout",
     "output_type": "stream",
     "text": [
      "sum is: good morning\n",
      "sum is: good morning\n"
     ]
    }
   ],
   "source": [
    "a = \"good\"\n",
    "b = \"morning\"\n",
    "c = a + \" \" + b\n",
    "print(\"sum is: \"+ c)\n",
    "print(\"sum is: \"+ c)\n"
   ]
  },
  {
   "cell_type": "code",
   "execution_count": 53,
   "metadata": {},
   "outputs": [
    {
     "name": "stdout",
     "output_type": "stream",
     "text": [
      "<class 'str'>\n",
      "<class 'int'>\n",
      "<class 'str'>\n"
     ]
    }
   ],
   "source": [
    "print(type('10'))\n",
    "a=int('10')\n",
    "print(type(a))\n",
    "\n",
    "print(type('A'))"
   ]
  },
  {
   "cell_type": "code",
   "execution_count": 57,
   "metadata": {},
   "outputs": [
    {
     "name": "stdout",
     "output_type": "stream",
     "text": [
      "1\n"
     ]
    }
   ],
   "source": [
    "print(int(True))"
   ]
  },
  {
   "cell_type": "code",
   "execution_count": 63,
   "metadata": {},
   "outputs": [
    {
     "name": "stdout",
     "output_type": "stream",
     "text": [
      "5.714285714285714\n"
     ]
    }
   ],
   "source": [
    "print(20//3.5)"
   ]
  },
  {
   "cell_type": "code",
   "execution_count": 65,
   "metadata": {},
   "outputs": [
    {
     "name": "stdout",
     "output_type": "stream",
     "text": [
      "6.666666666666667\n"
     ]
    }
   ],
   "source": [
    "print(20/3.0)"
   ]
  },
  {
   "cell_type": "code",
   "execution_count": 66,
   "metadata": {},
   "outputs": [
    {
     "name": "stdout",
     "output_type": "stream",
     "text": [
      "True\n"
     ]
    }
   ],
   "source": [
    "print(10 == 10.0)\n",
    "print"
   ]
  },
  {
   "cell_type": "code",
   "execution_count": 74,
   "metadata": {},
   "outputs": [
    {
     "name": "stdout",
     "output_type": "stream",
     "text": [
      "20\n",
      "10\n",
      "10\n",
      "1\n"
     ]
    }
   ],
   "source": [
    "print(10 and 20)\n",
    "print(10 or 20)\n",
    "\n",
    "print(0 or 10)\n",
    "print('0' and '1')"
   ]
  },
  {
   "cell_type": "code",
   "execution_count": 76,
   "metadata": {},
   "outputs": [
    {
     "data": {
      "text/plain": [
       "True"
      ]
     },
     "execution_count": 76,
     "metadata": {},
     "output_type": "execute_result"
    }
   ],
   "source": [
    "not 10\n",
    "not 0"
   ]
  },
  {
   "cell_type": "code",
   "execution_count": 10,
   "metadata": {},
   "outputs": [
    {
     "name": "stdout",
     "output_type": "stream",
     "text": [
      "4.857142857142857\n"
     ]
    }
   ],
   "source": [
    "print(34/7)"
   ]
  },
  {
   "cell_type": "code",
   "execution_count": 12,
   "metadata": {},
   "outputs": [
    {
     "name": "stdout",
     "output_type": "stream",
     "text": [
      "10000000000\n"
     ]
    }
   ],
   "source": [
    "x = 10\n",
    "x **= 10\n",
    "print(x)"
   ]
  },
  {
   "cell_type": "code",
   "execution_count": 13,
   "metadata": {},
   "outputs": [
    {
     "name": "stdout",
     "output_type": "stream",
     "text": [
      "35\n"
     ]
    }
   ],
   "source": [
    "a , b  = 10 , 20\n",
    "x = 50 if a>b else 35\n",
    "print(x)"
   ]
  },
  {
   "cell_type": "code",
   "execution_count": 17,
   "metadata": {},
   "outputs": [
    {
     "name": "stdout",
     "output_type": "stream",
     "text": [
      "True\n"
     ]
    }
   ],
   "source": [
    "s = \"hello python\"\n",
    "# print('i' in s)\n",
    "# print('he' in s)\n",
    "# print(' ' in s)\n"
   ]
  },
  {
   "cell_type": "code",
   "execution_count": 20,
   "metadata": {},
   "outputs": [
    {
     "name": "stdout",
     "output_type": "stream",
     "text": [
      "True\n",
      "False\n"
     ]
    }
   ],
   "source": [
    "a = 10\n",
    "b = 20\n",
    "print(a is not b)\n",
    "print(a is b)"
   ]
  },
  {
   "cell_type": "code",
   "execution_count": 21,
   "metadata": {},
   "outputs": [],
   "source": [
    "# ()\n",
    "# **\n",
    "# bitwise complement     (not in syllabus)\n",
    "# * , / , // , %\n",
    "# + , -\n",
    "# << , >> \n",
    "# & , ^ , |              (not in syllabus)\n",
    "# relational operation\n",
    "# assignment\n",
    "# identity               (not in syllabus)\n",
    "# membership(in , not in)\n",
    "# not , and , or (logical)"
   ]
  },
  {
   "cell_type": "code",
   "execution_count": 30,
   "metadata": {},
   "outputs": [
    {
     "name": "stdout",
     "output_type": "stream",
     "text": [
      "11.0\n",
      "True\n",
      "True\n",
      "62.5\n"
     ]
    }
   ],
   "source": [
    "print(6 + 5 - 4 * 3 / 2 % 1)\n",
    "print(6==6.0)\n",
    "print(5 and True or 3/0)\n",
    "print(625/10)"
   ]
  },
  {
   "cell_type": "code",
   "execution_count": 32,
   "metadata": {},
   "outputs": [
    {
     "name": "stdout",
     "output_type": "stream",
     "text": [
      "122\n",
      "90\n"
     ]
    }
   ],
   "source": [
    "print(ord('z'))\n",
    "print(ord('Z'))"
   ]
  },
  {
   "cell_type": "code",
   "execution_count": 36,
   "metadata": {},
   "outputs": [
    {
     "name": "stdout",
     "output_type": "stream",
     "text": [
      "b\n",
      "\\\n",
      "d\n"
     ]
    }
   ],
   "source": [
    "print(chr(98))\n",
    "print (chr(92))\n",
    "\n",
    "x = chr(100)\n",
    "print(x)"
   ]
  },
  {
   "cell_type": "code",
   "execution_count": null,
   "metadata": {},
   "outputs": [],
   "source": [
    "import math\n",
    "x = math.sqrt(88)\n",
    "print(x)\n",
    "\n",
    "radius = 3\n",
    "print(\"area:\" , math.pi * radius ** 2)"
   ]
  },
  {
   "cell_type": "code",
   "execution_count": 62,
   "metadata": {},
   "outputs": [
    {
     "name": "stdout",
     "output_type": "stream",
     "text": [
      "enter seconds: 3665\n",
      "hr : min : sec : 1 : 1  :  5\n"
     ]
    }
   ],
   "source": [
    "# seconds into hour , minute\n",
    "sec = (int)(input(\"enter seconds: \"))\n",
    "\n",
    "hour   = sec // 3600\n",
    "sec    = sec %  3600\n",
    "minute = sec // 60\n",
    "sec    = sec %  60\n",
    "\n",
    "\n",
    "print(\"hr : min : sec :\" , hour , ':' , minute , ' : ' , sec )\n",
    "\n"
   ]
  },
  {
   "cell_type": "code",
   "execution_count": 61,
   "metadata": {},
   "outputs": [
    {
     "name": "stdout",
     "output_type": "stream",
     "text": [
      "20 10\n"
     ]
    }
   ],
   "source": [
    "a , b = 10 , 20\n",
    "\n",
    "a = a + b\n",
    "b = a - b\n",
    "a = a - b\n",
    "\n",
    "print(a , b)"
   ]
  },
  {
   "cell_type": "code",
   "execution_count": 67,
   "metadata": {},
   "outputs": [
    {
     "name": "stdout",
     "output_type": "stream",
     "text": [
      "prince\n"
     ]
    }
   ],
   "source": [
    "x = 5\n",
    "\n",
    "if x == 6:\n",
    "    print(\"romin\")\n",
    "    print(\"jenish\")\n",
    "elif x == 5:\n",
    "    print(\"prince\")"
   ]
  },
  {
   "cell_type": "code",
   "execution_count": 83,
   "metadata": {},
   "outputs": [
    {
     "name": "stdout",
     "output_type": "stream",
     "text": [
      "enter marks: 90\n",
      "grade is A\n"
     ]
    }
   ],
   "source": [
    "# write a py programme to get marks from the user and give grade according to following distribution\n",
    "\n",
    "marks = (int)(input(\"enter marks: \"))\n",
    "\n",
    "if (marks >= 80 and marks <= 100):\n",
    "    print(\"grade is A\")\n",
    "elif (marks >= 60 and marks <= 79):\n",
    "    print(\"grade is B\")\n",
    "elif (marks >= 35 and marks <= 59):\n",
    "    print(\"grade is C\")\n",
    "elif (marks >= 0 and marks <= 0):\n",
    "    print(\"grade is D\")\n",
    "else: \n",
    "    print(\"not valid number\")"
   ]
  },
  {
   "cell_type": "code",
   "execution_count": 94,
   "metadata": {},
   "outputs": [
    {
     "name": "stdout",
     "output_type": "stream",
     "text": [
      "enter num1: 14\n",
      "enter num2: 12\n",
      "enter num3: -942\n",
      "num1 is max\n"
     ]
    }
   ],
   "source": [
    "a = (int)(input(\"enter num1: \"))\n",
    "b = (int)(input(\"enter num2: \"))\n",
    "c = (int)(input(\"enter num3: \"))\n",
    "\n",
    "if a > b:\n",
    "    if a > c:\n",
    "        print('num1 is max')\n",
    "    else:\n",
    "        print('num3 is max')\n",
    "elif b > a:\n",
    "    if b > c:\n",
    "        print('num2 is max')\n",
    "    else:\n",
    "        print('num3 is max')\n",
    "        "
   ]
  },
  {
   "cell_type": "code",
   "execution_count": null,
   "metadata": {},
   "outputs": [],
   "source": []
  }
 ],
 "metadata": {
  "kernelspec": {
   "display_name": "Python 3",
   "language": "python",
   "name": "python3"
  },
  "language_info": {
   "codemirror_mode": {
    "name": "ipython",
    "version": 3
   },
   "file_extension": ".py",
   "mimetype": "text/x-python",
   "name": "python",
   "nbconvert_exporter": "python",
   "pygments_lexer": "ipython3",
   "version": "3.8.5"
  }
 },
 "nbformat": 4,
 "nbformat_minor": 4
}
