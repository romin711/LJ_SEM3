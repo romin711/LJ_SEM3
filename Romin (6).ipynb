{
 "cells": [
  {
   "cell_type": "code",
   "execution_count": 1,
   "metadata": {},
   "outputs": [
    {
     "name": "stdout",
     "output_type": "stream",
     "text": [
      "hello\n"
     ]
    }
   ],
   "source": [
    "print(\"hello\")"
   ]
  },
  {
   "cell_type": "code",
   "execution_count": 10,
   "metadata": {},
   "outputs": [
    {
     "name": "stdout",
     "output_type": "stream",
     "text": [
      "  \n",
      "        my self romin,\n",
      "        learning engineering from LJ\n",
      "        \n"
     ]
    }
   ],
   "source": [
    "# print(\"apple\")\n",
    "print(\"\"\"  \n",
    "        my self romin,\n",
    "        learning engineering from LJ\n",
    "        \"\"\")"
   ]
  },
  {
   "cell_type": "code",
   "execution_count": 13,
   "metadata": {},
   "outputs": [
    {
     "name": "stdout",
     "output_type": "stream",
     "text": [
      "20 10\n"
     ]
    }
   ],
   "source": [
    "a = 10\n",
    "b = 20\n",
    "a,b = b,a\n",
    "print(a,b)"
   ]
  },
  {
   "cell_type": "code",
   "execution_count": 18,
   "metadata": {},
   "outputs": [
    {
     "name": "stdout",
     "output_type": "stream",
     "text": [
      "<class 'bool'>\n"
     ]
    }
   ],
   "source": [
    "a = 1\n",
    "b = 2\n",
    "print(type(a==b))"
   ]
  },
  {
   "cell_type": "code",
   "execution_count": 38,
   "metadata": {},
   "outputs": [
    {
     "name": "stdout",
     "output_type": "stream",
     "text": [
      "enter name: romin\n",
      "enter Mobile Number: 989\n",
      "your data: romin 989.0\n",
      "<class 'str'>\n",
      "<class 'float'>\n"
     ]
    }
   ],
   "source": [
    "name = input('enter name: ')\n",
    "mobileNumber = (float(input('enter Mobile Number: ')))\n",
    "\n",
    "print('your data: ' + name , mobileNumber)\n",
    "print(type(name))\n",
    "\n",
    "print(type(mobileNumber))\n"
   ]
  },
  {
   "cell_type": "code",
   "execution_count": 37,
   "metadata": {},
   "outputs": [
    {
     "name": "stdout",
     "output_type": "stream",
     "text": [
      "sum is: good morning\n",
      "sum is: good morning\n"
     ]
    }
   ],
   "source": [
    "a = \"good\"\n",
    "b = \"morning\"\n",
    "c = a + \" \" + b\n",
    "print(\"sum is: \"+ c)\n",
    "print(\"sum is: \"+ c)\n"
   ]
  },
  {
   "cell_type": "code",
   "execution_count": 53,
   "metadata": {},
   "outputs": [
    {
     "name": "stdout",
     "output_type": "stream",
     "text": [
      "<class 'str'>\n",
      "<class 'int'>\n",
      "<class 'str'>\n"
     ]
    }
   ],
   "source": [
    "print(type('10'))\n",
    "a=int('10')\n",
    "print(type(a))\n",
    "\n",
    "print(type('A'))"
   ]
  },
  {
   "cell_type": "code",
   "execution_count": 57,
   "metadata": {},
   "outputs": [
    {
     "name": "stdout",
     "output_type": "stream",
     "text": [
      "1\n"
     ]
    }
   ],
   "source": [
    "print(int(True))"
   ]
  },
  {
   "cell_type": "code",
   "execution_count": 63,
   "metadata": {},
   "outputs": [
    {
     "name": "stdout",
     "output_type": "stream",
     "text": [
      "5.714285714285714\n"
     ]
    }
   ],
   "source": [
    "print(20//3.5)"
   ]
  },
  {
   "cell_type": "code",
   "execution_count": 65,
   "metadata": {},
   "outputs": [
    {
     "name": "stdout",
     "output_type": "stream",
     "text": [
      "6.666666666666667\n"
     ]
    }
   ],
   "source": [
    "print(20/3.0)"
   ]
  },
  {
   "cell_type": "code",
   "execution_count": 66,
   "metadata": {},
   "outputs": [
    {
     "name": "stdout",
     "output_type": "stream",
     "text": [
      "True\n"
     ]
    }
   ],
   "source": [
    "print(10 == 10.0)\n",
    "print"
   ]
  },
  {
   "cell_type": "code",
   "execution_count": 74,
   "metadata": {},
   "outputs": [
    {
     "name": "stdout",
     "output_type": "stream",
     "text": [
      "20\n",
      "10\n",
      "10\n",
      "1\n"
     ]
    }
   ],
   "source": [
    "print(10 and 20)\n",
    "print(10 or 20)\n",
    "\n",
    "print(0 or 10)\n",
    "print('0' and '1')"
   ]
  },
  {
   "cell_type": "code",
   "execution_count": 76,
   "metadata": {},
   "outputs": [
    {
     "data": {
      "text/plain": [
       "True"
      ]
     },
     "execution_count": 76,
     "metadata": {},
     "output_type": "execute_result"
    }
   ],
   "source": [
    "not 10\n",
    "not 0"
   ]
  },
  {
   "cell_type": "code",
   "execution_count": 10,
   "metadata": {},
   "outputs": [
    {
     "name": "stdout",
     "output_type": "stream",
     "text": [
      "4.857142857142857\n"
     ]
    }
   ],
   "source": [
    "print(34/7)"
   ]
  },
  {
   "cell_type": "code",
   "execution_count": 12,
   "metadata": {},
   "outputs": [
    {
     "name": "stdout",
     "output_type": "stream",
     "text": [
      "10000000000\n"
     ]
    }
   ],
   "source": [
    "x = 10\n",
    "x **= 10\n",
    "print(x)"
   ]
  },
  {
   "cell_type": "code",
   "execution_count": 13,
   "metadata": {},
   "outputs": [
    {
     "name": "stdout",
     "output_type": "stream",
     "text": [
      "35\n"
     ]
    }
   ],
   "source": [
    "a , b  = 10 , 20\n",
    "x = 50 if a>b else 35\n",
    "print(x)"
   ]
  },
  {
   "cell_type": "code",
   "execution_count": 17,
   "metadata": {},
   "outputs": [
    {
     "name": "stdout",
     "output_type": "stream",
     "text": [
      "True\n"
     ]
    }
   ],
   "source": [
    "s = \"hello python\"\n",
    "# print('i' in s)\n",
    "# print('he' in s)\n",
    "# print(' ' in s)\n"
   ]
  },
  {
   "cell_type": "code",
   "execution_count": 20,
   "metadata": {},
   "outputs": [
    {
     "name": "stdout",
     "output_type": "stream",
     "text": [
      "True\n",
      "False\n"
     ]
    }
   ],
   "source": [
    "a = 10\n",
    "b = 20\n",
    "print(a is not b)\n",
    "print(a is b)"
   ]
  },
  {
   "cell_type": "code",
   "execution_count": 21,
   "metadata": {},
   "outputs": [],
   "source": [
    "# ()\n",
    "# **\n",
    "# bitwise complement     (not in syllabus)\n",
    "# * , / , // , %\n",
    "# + , -\n",
    "# << , >> \n",
    "# & , ^ , |              (not in syllabus)\n",
    "# relational operation\n",
    "# assignment\n",
    "# identity               (not in syllabus)\n",
    "# membership(in , not in)\n",
    "# not , and , or (logical)"
   ]
  },
  {
   "cell_type": "code",
   "execution_count": 30,
   "metadata": {},
   "outputs": [
    {
     "name": "stdout",
     "output_type": "stream",
     "text": [
      "11.0\n",
      "True\n",
      "True\n",
      "62.5\n"
     ]
    }
   ],
   "source": [
    "print(6 + 5 - 4 * 3 / 2 % 1)\n",
    "print(6==6.0)\n",
    "print(5 and True or 3/0)\n",
    "print(625/10)"
   ]
  },
  {
   "cell_type": "code",
   "execution_count": 32,
   "metadata": {},
   "outputs": [
    {
     "name": "stdout",
     "output_type": "stream",
     "text": [
      "122\n",
      "90\n"
     ]
    }
   ],
   "source": [
    "print(ord('z'))\n",
    "print(ord('Z'))"
   ]
  },
  {
   "cell_type": "code",
   "execution_count": 36,
   "metadata": {},
   "outputs": [
    {
     "name": "stdout",
     "output_type": "stream",
     "text": [
      "b\n",
      "\\\n",
      "d\n"
     ]
    }
   ],
   "source": [
    "print(chr(98))\n",
    "print (chr(92))\n",
    "\n",
    "x = chr(100)\n",
    "print(x)"
   ]
  },
  {
   "cell_type": "code",
   "execution_count": null,
   "metadata": {},
   "outputs": [],
   "source": [
    "import math\n",
    "x = math.sqrt(88)\n",
    "print(x)\n",
    "\n",
    "radius = 3\n",
    "print(\"area:\" , math.pi * radius ** 2)"
   ]
  },
  {
   "cell_type": "code",
   "execution_count": 62,
   "metadata": {},
   "outputs": [
    {
     "name": "stdout",
     "output_type": "stream",
     "text": [
      "enter seconds: 3665\n",
      "hr : min : sec : 1 : 1  :  5\n"
     ]
    }
   ],
   "source": [
    "# seconds into hour , minute\n",
    "sec = (int)(input(\"enter seconds: \"))\n",
    "\n",
    "hour   = sec // 3600\n",
    "sec    = sec %  3600\n",
    "minute = sec // 60\n",
    "sec    = sec %  60\n",
    "\n",
    "\n",
    "print(\"hr : min : sec :\" , hour , ':' , minute , ' : ' , sec )\n",
    "\n"
   ]
  },
  {
   "cell_type": "code",
   "execution_count": 61,
   "metadata": {},
   "outputs": [
    {
     "name": "stdout",
     "output_type": "stream",
     "text": [
      "20 10\n"
     ]
    }
   ],
   "source": [
    "a , b = 10 , 20\n",
    "\n",
    "a = a + b\n",
    "b = a - b\n",
    "a = a - b\n",
    "\n",
    "print(a , b)"
   ]
  },
  {
   "cell_type": "code",
   "execution_count": 67,
   "metadata": {},
   "outputs": [
    {
     "name": "stdout",
     "output_type": "stream",
     "text": [
      "prince\n"
     ]
    }
   ],
   "source": [
    "x = 5\n",
    "\n",
    "if x == 6:\n",
    "    print(\"romin\")\n",
    "    print(\"jenish\")\n",
    "elif x == 5:\n",
    "    print(\"prince\")"
   ]
  },
  {
   "cell_type": "code",
   "execution_count": 83,
   "metadata": {},
   "outputs": [
    {
     "name": "stdout",
     "output_type": "stream",
     "text": [
      "enter marks: 90\n",
      "grade is A\n"
     ]
    }
   ],
   "source": [
    "# write a py programme to get marks from the user and give grade according to following distribution\n",
    "\n",
    "marks = (int)(input(\"enter marks: \"))\n",
    "\n",
    "if (marks >= 80 and marks <= 100):\n",
    "    print(\"grade is A\")\n",
    "elif (marks >= 60 and marks <= 79):\n",
    "    print(\"grade is B\")\n",
    "elif (marks >= 35 and marks <= 59):\n",
    "    print(\"grade is C\")\n",
    "elif (marks >= 0 and marks <= 0):\n",
    "    print(\"grade is D\")\n",
    "else: \n",
    "    print(\"not valid number\")"
   ]
  },
  {
   "cell_type": "code",
   "execution_count": 94,
   "metadata": {},
   "outputs": [
    {
     "name": "stdout",
     "output_type": "stream",
     "text": [
      "enter num1: 14\n",
      "enter num2: 12\n",
      "enter num3: -942\n",
      "num1 is max\n"
     ]
    }
   ],
   "source": [
    "a = (int)(input(\"enter num1: \"))\n",
    "b = (int)(input(\"enter num2: \"))\n",
    "c = (int)(input(\"enter num3: \"))\n",
    "\n",
    "if a > b:\n",
    "    if a > c:\n",
    "        print('num1 is max')\n",
    "    else:\n",
    "        print('num3 is max')\n",
    "elif b > a:\n",
    "    if b > c:\n",
    "        print('num2 is max')\n",
    "    else:\n",
    "        print('num3 is max')\n",
    "        "
   ]
  },
  {
   "cell_type": "code",
   "execution_count": 5,
   "metadata": {},
   "outputs": [
    {
     "name": "stdout",
     "output_type": "stream",
     "text": [
      "enter num1: 2\n",
      "enter num2: 2\n",
      "enter num3: 2\n",
      "enter correct number\n",
      "ascending order: 0 0 0\n",
      "descending order: 0 0 0\n"
     ]
    }
   ],
   "source": [
    "# write a py programme to arrange 3 numbers in asc and desc order. 3 number from user\n",
    "\n",
    "\n",
    "x,y,z=0,0,0\n",
    "\n",
    "if a<b and b<c:\n",
    "    if b<c:\n",
    "        x,y,z = a,b,c\n",
    "    else: \n",
    "        x,y,z = a,c,b\n",
    "elif b<c and b<a:\n",
    "    if a<c:\n",
    "        x,y,z = b,a,c\n",
    "    else:\n",
    "        x,y,z = b,c,a\n",
    "elif c<a and c<b:\n",
    "    if a<b:\n",
    "        x,y,z = c,a,b\n",
    "    else:\n",
    "        x,y,z = c,b,a\n",
    "else:\n",
    "    print(\"enter correct number\")\n",
    "    \n",
    "print(\"ascending order:\" , x,y,z)\n",
    "print(\"descending order:\" , z,y,x)\n",
    "\n",
    "\n"
   ]
  },
  {
   "cell_type": "code",
   "execution_count": 16,
   "metadata": {},
   "outputs": [
    {
     "name": "stdout",
     "output_type": "stream",
     "text": [
      "enter num1: 5\n",
      "enter num2: 6\n",
      "enter operation sign: //\n",
      "division is: 0\n"
     ]
    }
   ],
   "source": [
    "# wap to create calculator get a two number from user and also get a sign from a user which operation he/she want to do\n",
    "\n",
    "a = (int)(input(\"enter num1: \"))\n",
    "b = (int)(input(\"enter num2: \"))\n",
    "c = input(\"enter operation sign: \")\n",
    "\n",
    "if c==\"+\":\n",
    "    print(\"summation is: \" , a+b)\n",
    "elif c==\"-\":\n",
    "    print(\"subtraction is:\", a-b)\n",
    "elif c=='*':\n",
    "    print(\"multiplication is:\" , a*b)\n",
    "elif c=='//':\n",
    "    print(\"division is:\" , a//b)"
   ]
  },
  {
   "cell_type": "code",
   "execution_count": 23,
   "metadata": {},
   "outputs": [
    {
     "name": "stdout",
     "output_type": "stream",
     "text": [
      "enter date: -20\n",
      "enter month: 2\n",
      "enter year: 2500\n",
      "date is invalid\n"
     ]
    }
   ],
   "source": [
    "# to check whether the entered date is valid or not , if the date is valid than give the incremented date\n",
    "date = (int)(input(\"enter date: \"))\n",
    "month = (int)(input(\"enter month: \"))\n",
    "year = (int)(input(\"enter year: \"))\n",
    "\n",
    "if (month==1 or month==3 or month==5 or month==7 or month==8 or month==10 or month==12):\n",
    "    max1=31\n",
    "elif (month == 4 or month == 6 or month == 9 or month == 11):\n",
    "    max1=30\n",
    "elif (year%4==0 and year%100!=0 or year%400==0):\n",
    "    max1=29\n",
    "else:\n",
    "    max1=28\n",
    "    \n",
    "if month < 1 or month > 12:\n",
    "    print('date is invalid')\n",
    "elif date < 1 or date > max1:\n",
    "    print('date is invalid')\n",
    "elif date == max1 and month != 12:\n",
    "    date = 1\n",
    "    month = month + 1\n",
    "    print('next date=' , date , month , year)\n",
    "elif date == max1 and month == 12:\n",
    "    date = 1\n",
    "    month = 1\n",
    "    year = year + 1\n",
    "    print('next date=' , date , month , year)\n",
    "else:\n",
    "    date = date + 1\n",
    "    print('next date=' , date , month , year)\n",
    "\n",
    "\n",
    "\n",
    "    "
   ]
  },
  {
   "cell_type": "code",
   "execution_count": 32,
   "metadata": {},
   "outputs": [
    {
     "name": "stdout",
     "output_type": "stream",
     "text": [
      "enter cents: 234\n",
      "9 quarter,1 nickle,4 penny\n"
     ]
    }
   ],
   "source": [
    "# wap to calculate number of basic american coins given value less than 1$ = 100cents ,  25cents = 1 quarter , 10cents = 1 dime , 5 cents = 1 nickle , 1 cent = 1 penny\n",
    "cents = int(input(\"enter cents: \"))\n",
    "\n",
    "quarter = 0\n",
    "dime = 0 \n",
    "nickle = 0\n",
    "penny = 0\n",
    "\n",
    "\n",
    "if cents > 25:\n",
    "    quarter = cents // 25\n",
    "    cents = cents % 25\n",
    "    print(quarter , 'quarter' , end=',')\n",
    "if cents >= 10:\n",
    "    dime = cents//10\n",
    "    cents = cents % 10\n",
    "    print(dime , 'dime' , end=',')\n",
    "if cents > 5:\n",
    "    nickle = cents//5\n",
    "    cents = cents % 5\n",
    "    print(nickle , 'nickle' , end=',')\n",
    "if cents >=1:\n",
    "    penny = cents\n",
    "    print(penny,'penny')\n"
   ]
  },
  {
   "cell_type": "code",
   "execution_count": 3,
   "metadata": {},
   "outputs": [
    {
     "name": "stdout",
     "output_type": "stream",
     "text": [
      "enter vehicle type number\n",
      "                           1. truck\n",
      "                           2. car\n",
      "                           3. two wheelrs2\n",
      "enter entry hour: 3\n",
      "enter entry minute: 0\n",
      "enter exit hour: 5\n",
      "enter exit minute: 0\n",
      "rate rs= 50\n"
     ]
    }
   ],
   "source": [
    "# wap to calculate parking fees as per the entry and exit time, get entry and exit time in 24 hours times from user and fees are as following\n",
    "\n",
    "vehicle = (int(input(\"\"\"enter vehicle type number\n",
    "                           1. truck\n",
    "                           2. car\n",
    "                           3. two wheelrs\"\"\")))\n",
    "entry_hr = (int)(input(\"enter entry hour: \"))\n",
    "entry_min = (int)(input(\"enter entry minute: \"))\n",
    "exit_hr = (int)(input(\"enter exit hour: \"))\n",
    "exit_min = (int)(input(\"enter exit minute: \"))\n",
    "\n",
    "if exit_hr < entry_hr:\n",
    "    exit_hr = exit_hr + 24\n",
    "\n",
    "parking_time_hr = (exit_hr - entry_hr)\n",
    "parking_time_min = (exit_min - entry_min)\n",
    "\n",
    "if parking_time_hr < 3 or (parking_time_hr == 3 and parking_time_min <= 0):\n",
    "    if vehicle == 1:\n",
    "        rate = 100\n",
    "    elif vehicle == 2:\n",
    "        rate = 50\n",
    "    else:\n",
    "        rate = 30\n",
    "elif parking_time_hr > 3 or (parking_time_hr == 3 and parking_time_min > 0):\n",
    "    if vehicle == 1:\n",
    "        rate = 150\n",
    "    elif vehicle == 2:\n",
    "        rate = 100\n",
    "    else:\n",
    "        rate = 50\n",
    "else:\n",
    "    print('enter time properly')\n",
    "print('rate rs=' , rate)\n",
    "\n"
   ]
  },
  {
   "cell_type": "code",
   "execution_count": 23,
   "metadata": {},
   "outputs": [
    {
     "name": "stdout",
     "output_type": "stream",
     "text": [
      "apple mango\n",
      "apple mango\n",
      "apple mango\n",
      "apple mango\n",
      "apple mango\n",
      "apple mango\n",
      "apple mango\n",
      "apple mango\n",
      "apple mango\n",
      "apple mango\n",
      "apple mango\n"
     ]
    }
   ],
   "source": [
    "# for i in range(11):\n",
    "#     print(i, end=',')\n",
    "    \n",
    "s = 'apple mango'\n",
    "for i in s:\n",
    "    print(s)\n",
    "\n",
    "# for i in range(1,20,3):\n",
    "#     print(i)"
   ]
  },
  {
   "cell_type": "code",
   "execution_count": 16,
   "metadata": {},
   "outputs": [
    {
     "name": "stdout",
     "output_type": "stream",
     "text": [
      "1\n",
      "3\n",
      "5\n",
      "7\n",
      "9\n",
      "a b c d e f g h i j k l m n o p q r s t u v w x y a\n"
     ]
    }
   ],
   "source": [
    "for i in range(1,10,-1):\n",
    "    print(i)\n",
    "    \n",
    "for i in range(1,10,2):\n",
    "    print(i)\n",
    "    "
   ]
  },
  {
   "cell_type": "code",
   "execution_count": 25,
   "metadata": {},
   "outputs": [
    {
     "name": "stdout",
     "output_type": "stream",
     "text": [
      "a  b  c  d  e  f  g  h  i  j  k  l  m  n  o  p  q  r  s  t  u  v  w  x  y  a\n"
     ]
    }
   ],
   "source": [
    "for i in range(97,122,1):\n",
    "    print(chr(i) , end='  ')\n",
    "print(chr(97))"
   ]
  },
  {
   "cell_type": "code",
   "execution_count": 27,
   "metadata": {},
   "outputs": [
    {
     "name": "stdout",
     "output_type": "stream",
     "text": [
      "i= 0 j= a\n",
      "i= 0 j= b\n",
      "i= 0 j= c\n",
      "done\n",
      "i= 1 j= a\n",
      "i= 1 j= b\n",
      "i= 1 j= c\n",
      "done\n",
      "i= 2 j= a\n",
      "i= 2 j= b\n",
      "i= 2 j= c\n",
      "done\n",
      "jethalal\n"
     ]
    }
   ],
   "source": [
    "for i in range(3):\n",
    "    for j in range(97,100):\n",
    "        print('i=' , i , 'j=' , chr(j))\n",
    "    print('done')\n",
    "print('jethalal')"
   ]
  },
  {
   "cell_type": "code",
   "execution_count": 29,
   "metadata": {},
   "outputs": [
    {
     "name": "stdout",
     "output_type": "stream",
     "text": [
      "0\n",
      "0\n",
      "1\n",
      "1\n",
      "2\n",
      "2\n",
      "3\n",
      "3\n",
      "4\n",
      "4\n",
      "5\n",
      "5\n",
      "6\n",
      "stop\n",
      "bhide\n"
     ]
    }
   ],
   "source": [
    "for i in range(10):\n",
    "    print(i)\n",
    "    if i == 6:\n",
    "        print('stop')\n",
    "        break\n",
    "    print(i)\n",
    "print('bhide')"
   ]
  },
  {
   "cell_type": "code",
   "execution_count": 38,
   "metadata": {},
   "outputs": [
    {
     "name": "stdout",
     "output_type": "stream",
     "text": [
      "1\n",
      "2\n",
      "3\n",
      "3\n"
     ]
    }
   ],
   "source": [
    "x = 0\n",
    "while x<=6:\n",
    "    x = x+1\n",
    "    print(x)\n",
    "    if x == 3:\n",
    "        print(x)\n",
    "        break\n",
    "    "
   ]
  },
  {
   "cell_type": "code",
   "execution_count": 39,
   "metadata": {},
   "outputs": [
    {
     "name": "stdout",
     "output_type": "stream",
     "text": [
      "1\n",
      "3\n",
      "5\n",
      "7\n",
      "9\n"
     ]
    }
   ],
   "source": [
    "for i in range(10):\n",
    "    if i % 2 ==0:\n",
    "        continue\n",
    "    print(i)"
   ]
  },
  {
   "cell_type": "code",
   "execution_count": 45,
   "metadata": {},
   "outputs": [
    {
     "name": "stdout",
     "output_type": "stream",
     "text": [
      "1\n",
      "y\n"
     ]
    }
   ],
   "source": [
    "#  when loops complte than else complete otherwise doesn't\n",
    "\n",
    "for i in range(3):\n",
    "    if i == 1:\n",
    "        print(i)\n",
    "else:\n",
    "    print('y')"
   ]
  },
  {
   "cell_type": "code",
   "execution_count": 50,
   "metadata": {},
   "outputs": [
    {
     "name": "stdout",
     "output_type": "stream",
     "text": [
      "1\n",
      "2\n",
      "3\n",
      "ok\n"
     ]
    }
   ],
   "source": [
    "x = 1\n",
    "while x <= 3:\n",
    "    if x == 5:\n",
    "        break\n",
    "    print(x)\n",
    "    x = x+1\n",
    "else:\n",
    "    print('ok')"
   ]
  },
  {
   "cell_type": "code",
   "execution_count": 56,
   "metadata": {},
   "outputs": [
    {
     "name": "stdout",
     "output_type": "stream",
     "text": [
      "enter number:5\n",
      "15\n",
      "enter number:5\n",
      "15\n"
     ]
    }
   ],
   "source": [
    "#  wap get number from user sum of upto n number also find avg of that\n",
    "x = (int(input('enter number:')))\n",
    "sum = 0\n",
    "\n",
    "for i in range(x+1):\n",
    "    sum = sum + i\n",
    "print(sum)\n",
    " \n",
    "    \n",
    "    \n",
    "y = (int(input('enter number:')))\n",
    "i = 0\n",
    "while i <= y:\n",
    "    sum = sum + i\n",
    "    i = i + 1\n",
    "\n",
    "print(sum//2)\n",
    "\n",
    "    \n"
   ]
  },
  {
   "cell_type": "code",
   "execution_count": 66,
   "metadata": {},
   "outputs": [
    {
     "name": "stdout",
     "output_type": "stream",
     "text": [
      "enter start number:5\n",
      "enter last number:10\n",
      "sum = 35 average =  7\n"
     ]
    }
   ],
   "source": [
    "x = (int(input('enter start number:')))\n",
    "y = (int(input('enter last number:')))\n",
    "sum=0\n",
    "for i in range(x , y , 1):\n",
    "    sum = sum + i\n",
    "print('sum =' , sum , 'average = ' , sum//(y-x))"
   ]
  },
  {
   "cell_type": "code",
   "execution_count": 73,
   "metadata": {},
   "outputs": [
    {
     "name": "stdout",
     "output_type": "stream",
     "text": [
      "enter number:5\n",
      "120\n"
     ]
    }
   ],
   "source": [
    "#wap to find factorial of entered number\n",
    "x = (int(input('enter number:')))\n",
    "fac = 1\n",
    "i = 1\n",
    "\n",
    "while i <= x:\n",
    "    fac = fac * i\n",
    "    i = i + 1\n",
    "print(fac)\n"
   ]
  },
  {
   "cell_type": "code",
   "execution_count": 92,
   "metadata": {},
   "outputs": [
    {
     "name": "stdout",
     "output_type": "stream",
     "text": [
      "enter number:5\n",
      "0\n",
      "1\n",
      "1\n",
      "2\n",
      "3\n"
     ]
    }
   ],
   "source": [
    "# wap to find fibonacci sequence upto nth terms\n",
    "x = (int(input('enter number:')))\n",
    "\n",
    "a = 0\n",
    "b = 1\n",
    "c = 0\n",
    "while c < x:\n",
    "    print(a)\n",
    "#     a = b\n",
    "#     b = a + b\n",
    "    a, b = b, a + b\n",
    "    c = c + 1"
   ]
  },
  {
   "cell_type": "code",
   "execution_count": null,
   "metadata": {},
   "outputs": [],
   "source": [
    "# wap to whether the given number is prime or not\n",
    "x = (int(input('enter number:')))"
   ]
  },
  {
   "cell_type": "code",
   "execution_count": 103,
   "metadata": {},
   "outputs": [
    {
     "name": "stdout",
     "output_type": "stream",
     "text": [
      "enter number:121\n",
      "num is palin...\n"
     ]
    }
   ],
   "source": [
    "# wap whether the given number is palindrome or not\n",
    "x = (int(input('enter number:')))\n",
    "temp = x\n",
    "rev = 0\n",
    "\n",
    "while temp > 0:\n",
    "    digit = temp%10\n",
    "    rev = rev*10+digit\n",
    "    temp = temp//10\n",
    "if x == rev:\n",
    "    print('num is palin...')\n",
    "else:\n",
    "    print('num is not palin...')\n"
   ]
  },
  {
   "cell_type": "code",
   "execution_count": 108,
   "metadata": {},
   "outputs": [
    {
     "name": "stdout",
     "output_type": "stream",
     "text": [
      "Enter a number: 121\n",
      "num is not arm...\n"
     ]
    }
   ],
   "source": [
    "num = int(input(\"Enter a number: \"))\n",
    "temp = num\n",
    "count = 0\n",
    "\n",
    "while temp > 0:\n",
    "    temp //= 10\n",
    "    count += 1\n",
    "\n",
    "temp = num\n",
    "total = 0\n",
    "\n",
    "while temp > 0:\n",
    "    digit = temp % 10\n",
    "    total = total + (digit ** count)\n",
    "    temp //= 10\n",
    "\n",
    "if total == num:\n",
    "    print('num is arm...')\n",
    "else:\n",
    "    print('num is not arm...')"
   ]
  },
  {
   "cell_type": "code",
   "execution_count": 18,
   "metadata": {},
   "outputs": [
    {
     "name": "stdout",
     "output_type": "stream",
     "text": [
      "*  *  *  *  *  \n",
      "*  *  *  *  \n",
      "*  *  *  \n",
      "*  *  \n",
      "*  \n"
     ]
    }
   ],
   "source": [
    "n = 5\n",
    "for i in range(1,n+1):\n",
    "    for j in range(1 , n+2-i):\n",
    "        print('* ' , end=' ') \n",
    "    print()"
   ]
  },
  {
   "cell_type": "code",
   "execution_count": 34,
   "metadata": {},
   "outputs": [
    {
     "name": "stdout",
     "output_type": "stream",
     "text": [
      "  * * * * * \n",
      "    * * * * \n",
      "      * * * \n",
      "        * * \n",
      "          * \n"
     ]
    }
   ],
   "source": [
    "n = 5\n",
    "for i in range(1 , n+1):\n",
    "    for j in range(1 , i+1):\n",
    "        print(' ' , end=' ')\n",
    "    for k in range(i , n+1):\n",
    "        print('*' , end=' ')\n",
    "    print()"
   ]
  },
  {
   "cell_type": "code",
   "execution_count": 41,
   "metadata": {},
   "outputs": [
    {
     "name": "stdout",
     "output_type": "stream",
     "text": [
      "    *   \n",
      "   *   *   \n",
      "  *   *   *   \n",
      " *   *   *   *   \n",
      "*   *   *   *   *   \n"
     ]
    }
   ],
   "source": [
    "n = 5\n",
    "for i in range(1 , n+1):\n",
    "    for j in range(1 , n -i+1):\n",
    "        print(end=' ')\n",
    "    for k in range(1 , i + 1):\n",
    "        print('*  ' , end=' ')\n",
    "    print()"
   ]
  },
  {
   "cell_type": "code",
   "execution_count": 47,
   "metadata": {},
   "outputs": [
    {
     "name": "stdout",
     "output_type": "stream",
     "text": [
      "    1 \n",
      "   A B \n",
      "  1 2 3 \n",
      " A B C D \n",
      "1 2 3 4 5 \n"
     ]
    }
   ],
   "source": [
    "n = 5\n",
    "for i in range(1 , n+1):\n",
    "    l = 65\n",
    "    g = 1\n",
    "    for j in range(1,n-i+1):\n",
    "        print(end=' ')\n",
    "    for k in range(1 , i + 1):\n",
    "        if i % 2 == 0:\n",
    "            print(chr(l) , end=' ')\n",
    "            l=l+1\n",
    "        else:\n",
    "            print(g,end=' ')\n",
    "            g = g + 1\n",
    "    print()"
   ]
  },
  {
   "cell_type": "code",
   "execution_count": null,
   "metadata": {},
   "outputs": [],
   "source": [
    "#  wap for ask user to enter an hour between 1 and 12 ask them to enter am or pm and ask how many hours user want to ahead in future printout what the hour will be that many hours into the future\n",
    "user = float(input('enter hour: '))\n",
    "day = input('enter am or pm: ')\n",
    "hr = int(input('how many hour you want to ahead: '))\n",
    "\n",
    "if (user > 0 and user <= 12 and (day=='am' or day=='pm') and hr>=0):\n",
    "    if day == 'pm' and user != 12:\n",
    "        user+=12\n",
    "    elif day == 'am' and user == 12:\n",
    "        user = 0\n",
    "    new_hr = user + hr\n",
    "    new_hr = new_hr%24\n",
    "    if new_hr >= 0 and new_hr < 12:\n",
    "        if new_hr == 0:\n",
    "            new_hr = 12\n",
    "        print('new_hr=' , new_hr , 'am')\n",
    "    else:\n",
    "        new_hr = new_hr % 12\n",
    "        if new_hr == 0:\n",
    "            new_hr = 12\n",
    "        print('new_hr=' , new_hr , 'pm')\n",
    "else:\n",
    "    print('invalid data')"
   ]
  },
  {
   "cell_type": "code",
   "execution_count": 9,
   "metadata": {},
   "outputs": [
    {
     "name": "stdout",
     "output_type": "stream",
     "text": [
      "enter marks or done: 56\n",
      "enter marks or done: 56\n",
      "enter marks or done: 56\n",
      "enter marks or done: done\n",
      "168 avg:  56 56 56\n"
     ]
    }
   ],
   "source": [
    "#  wap to get marks from user upto when user entered done. find sum of marks avg of marks minimum and maximum marks\n",
    "\n",
    "count = 0 \n",
    "sum = 0\n",
    "\n",
    "while True:\n",
    "    n = input('enter marks or done: ')\n",
    "    \n",
    "    if n == 'done':\n",
    "        break\n",
    "    n = int(n)\n",
    "    if n < 0 or n > 100:\n",
    "        print('enter valid marks: ')\n",
    "        continue\n",
    "    count = count + 1\n",
    "    sum = sum + n\n",
    "    if count == 1:\n",
    "        min1 = n\n",
    "        max1 = n\n",
    "    if n > max1:\n",
    "        max1 = n\n",
    "    if n < min1:\n",
    "        min1 = n\n",
    "print(sum , 'avg: ' , sum//count , min1 , max1)"
   ]
  },
  {
   "cell_type": "code",
   "execution_count": 16,
   "metadata": {},
   "outputs": [
    {
     "name": "stdout",
     "output_type": "stream",
     "text": [
      "enter days: 30\n",
      "165\n"
     ]
    }
   ],
   "source": [
    "sum = 0\n",
    "m = 1 \n",
    "s = 7 \n",
    "d = (int(input('enter days: '))) \n",
    "w = d//7\n",
    "\n",
    "for i in range(w): \n",
    "    for j in range(m , s+1): \n",
    "        sum = sum + j \n",
    "    m = m + 1 \n",
    "    s = s + 1 \n",
    "for k in range(d%7): \n",
    "    sum = sum + m \n",
    "    m = m + 1 \n",
    "print(sum)"
   ]
  },
  {
   "cell_type": "code",
   "execution_count": 5,
   "metadata": {},
   "outputs": [
    {
     "name": "stdout",
     "output_type": "stream",
     "text": [
      "enter unit: 150\n",
      "charge is:  750\n"
     ]
    }
   ],
   "source": [
    "# print electricity bill\n",
    "\n",
    "unit = (int(input('enter unit: '))) \n",
    "\n",
    "if unit <= 100:\n",
    "    print('no charge')\n",
    "elif unit > 100 and unit <= 200:\n",
    "    print('charge is: ' , unit*5)\n",
    "elif unit > 200 and unit <= 300:\n",
    "    print('charge is: ' , ((100*5) + (unit - 100) * 5))\n",
    "else:\n",
    "    print('charge is: ' , ((100*5) + (unit - 200) * 10))"
   ]
  },
  {
   "cell_type": "code",
   "execution_count": 124,
   "metadata": {},
   "outputs": [
    {
     "name": "stdout",
     "output_type": "stream",
     "text": [
      "Enter first number: 2\n",
      "Enter second number: 3\n",
      "gcd is: 1\n",
      "lcm is: 6\n"
     ]
    }
   ],
   "source": [
    "num1 = int(input(\"Enter first number: \"))\n",
    "num2 = int(input(\"Enter second number: \"))\n",
    "\n",
    "gcd = 1\n",
    "min_num = num1 if num1 < num2 else num2\n",
    "\n",
    "for i in range(1, min_num + 1):\n",
    "    if num1 % i == 0 and num2 % i == 0:\n",
    "        gcd = i  \n",
    "lcm = (num1 * num2) // gcd\n",
    "\n",
    "print(\"gcd is:\", gcd)\n",
    "print(\"lcm is:\", lcm)"
   ]
  },
  {
   "cell_type": "code",
   "execution_count": 23,
   "metadata": {},
   "outputs": [
    {
     "name": "stdout",
     "output_type": "stream",
     "text": [
      "total  digit is:  11\n",
      "last   digit is:  4\n",
      "first  digit is:  7\n",
      "middle digit is:  358242352\n",
      "swap  number is:  43582423527\n"
     ]
    }
   ],
   "source": [
    "# wap to swap first and last digit of number\n",
    "number = 73582423524\n",
    "c = 0\n",
    "temp = number\n",
    "last_num = number%10\n",
    "\n",
    "while temp!=0:\n",
    "    c=c+1\n",
    "    temp = temp//10\n",
    "first_num = number//10**(c-1)\n",
    "middle_num = (number%10**(c-1))//10\n",
    "\n",
    "print('total  digit is: ',c)\n",
    "print('last   digit is: ' ,last_num)\n",
    "print('first  digit is: ',first_num)\n",
    "print('middle digit is: ',middle_num)\n",
    "\n",
    "swap_num = last_num*10**(c-1) + (middle_num*10) + first_num\n",
    "print('swap  number is: ',swap_num)"
   ]
  },
  {
   "cell_type": "code",
   "execution_count": 56,
   "metadata": {},
   "outputs": [
    {
     "name": "stdout",
     "output_type": "stream",
     "text": [
      "enter number: 99991\n",
      "2\n"
     ]
    }
   ],
   "source": [
    "# wap to print encoded number increasing by one in each digit\n",
    "number = (int(input('enter number: '))) \n",
    "encoded_number = 0\n",
    "position = 1\n",
    "\n",
    "while number > 0:\n",
    "    digit = number%10\n",
    "    number = number // 10\n",
    "    if digit < 9:\n",
    "        digit += 1\n",
    "    else:\n",
    "        digit = 0\n",
    "    encoded_number += (digit*position)\n",
    "    position *= 10\n",
    "print(encoded_number)"
   ]
  },
  {
   "cell_type": "code",
   "execution_count": 53,
   "metadata": {},
   "outputs": [
    {
     "name": "stdout",
     "output_type": "stream",
     "text": [
      "enter number: -056\n",
      "-56\n"
     ]
    }
   ],
   "source": [
    "number = int(input('enter number: ')) \n",
    "print(number)"
   ]
  },
  {
   "cell_type": "code",
   "execution_count": 51,
   "metadata": {},
   "outputs": [
    {
     "name": "stdout",
     "output_type": "stream",
     "text": [
      "<class 'int'>\n"
     ]
    }
   ],
   "source": [
    "x = int(\"0478\")\n",
    "print(type(x))"
   ]
  },
  {
   "cell_type": "code",
   "execution_count": 112,
   "metadata": {},
   "outputs": [
    {
     "name": "stdout",
     "output_type": "stream",
     "text": [
      "        * *         \n",
      "      *     *       \n",
      "    * * * * * *     \n",
      "  *             *   \n",
      "*                 * \n"
     ]
    }
   ],
   "source": [
    "r = 5\n",
    "c = (r*2) - 1\n",
    "n = c//2\n",
    "for i in range (0 , r):\n",
    "    for j in range (0 , c+1):\n",
    "        if(j == n or j == (c-n) or (i == (r//2) and j > n and j < (c-n))):\n",
    "            print('*' , end=' ')\n",
    "        else:\n",
    "            print(' ',end=' ')\n",
    "    print()\n",
    "    n = n-1"
   ]
  },
  {
   "cell_type": "code",
   "execution_count": 123,
   "metadata": {},
   "outputs": [
    {
     "name": "stdout",
     "output_type": "stream",
     "text": [
      "enter number: 123\n",
      "num is not disarium\n"
     ]
    }
   ],
   "source": [
    "# wap to check number is disarium number or not(ex; 518)\n",
    "number = (int(input('enter number: '))) \n",
    "c = 0\n",
    "temp = number\n",
    "temp1 = number\n",
    "\n",
    "while number != 0:\n",
    "    c = c + 1\n",
    "    number = number // 10\n",
    "sum = 0\n",
    "\n",
    "while temp != 0:\n",
    "    d = temp%10\n",
    "    sum = sum + (d**c)\n",
    "    temp = temp//10\n",
    "    c = c - 1\n",
    "if sum == temp1:\n",
    "    print('num is disarium')\n",
    "else:\n",
    "    print('num is not disarium')"
   ]
  },
  {
   "cell_type": "code",
   "execution_count": 130,
   "metadata": {},
   "outputs": [
    {
     "name": "stdout",
     "output_type": "stream",
     "text": [
      "i loop 10\n",
      "if cont... 11\n",
      "i loop 11\n",
      "i loop 11\n",
      "i loop 11\n",
      "i loop 11\n",
      "i loop 11\n",
      "i loop 11\n",
      "i loop 11\n",
      "for j 12\n",
      "i loop 12\n",
      "if cont... 13\n",
      "i loop 13\n",
      "i loop 13\n",
      "i loop 13\n",
      "i loop 13\n",
      "i loop 13\n",
      "i loop 13\n",
      "i loop 13\n",
      "for j 14\n",
      "i loop 14\n",
      "if cont... 15\n",
      "i loop 15\n",
      "i loop 15\n",
      "i loop 15\n",
      "i loop 15\n",
      "i loop 15\n",
      "i loop 15\n",
      "i loop 15\n",
      "for j 16\n",
      "i loop 16\n",
      "if cont... 17\n",
      "i loop 17\n",
      "i loop 17\n",
      "i loop 17\n",
      "i loop 17\n",
      "i loop 17\n",
      "i loop 17\n",
      "i loop 17\n",
      "for j 18\n",
      "i loop 18\n",
      "if cont... 19\n",
      "i loop 19\n",
      "i loop 19\n",
      "i loop 19\n",
      "i loop 19\n",
      "i loop 19\n",
      "i loop 19\n",
      "i loop 19\n",
      "for j 20\n",
      "i loop 20\n",
      "if cont... 21\n",
      "i loop 21\n",
      "i loop 21\n",
      "i loop 21\n",
      "i loop 21\n",
      "i loop 21\n",
      "i loop 21\n",
      "i loop 21\n",
      "for j 22\n",
      "i loop 22\n",
      "if cont... 23\n",
      "i loop 23\n",
      "i loop 23\n",
      "i loop 23\n",
      "i loop 23\n",
      "i loop 23\n",
      "i loop 23\n",
      "i loop 23\n",
      "for j 24\n",
      "i loop 24\n",
      "if cont... 25\n",
      "i loop 25\n",
      "i loop 25\n",
      "i loop 25\n",
      "i loop 25\n",
      "i loop 25\n",
      "i loop 25\n",
      "i loop 25\n",
      "for j 26\n",
      "i loop 26\n",
      "if cont... 27\n",
      "i loop 27\n",
      "i loop 27\n",
      "i loop 27\n",
      "i loop 27\n",
      "i loop 27\n",
      "i loop 27\n",
      "i loop 27\n",
      "for j 28\n",
      "i loop 28\n",
      "if cont... 29\n",
      "i loop 29\n",
      "i loop 29\n",
      "i loop 29\n",
      "i loop 29\n",
      "i loop 29\n",
      "i loop 29\n",
      "i loop 29\n",
      "for j 30\n",
      "else 31\n",
      "final var 31\n"
     ]
    }
   ],
   "source": [
    "var = 10\n",
    "for i in range(10):\n",
    "    for j in range(2,10,1):\n",
    "        print('i loop',var)\n",
    "        if var%2 = 0:\n",
    "            continue\n",
    "            var = var + 1\n",
    "            print('if cont...',var)\n",
    "    var = var + 1\n",
    "    print('for j',var)\n",
    "else:\n",
    "    var = var + 1\n",
    "    print('else',var)\n",
    "print('final var',var)"
   ]
  },
  {
   "cell_type": "code",
   "execution_count": 135,
   "metadata": {},
   "outputs": [],
   "source": [
    "if 9 < 0:\n",
    "        print(1)\n",
    "elif 8 < 0:\n",
    "    print(100)\n",
    "else:\n",
    "    pass"
   ]
  }
 ],
 "metadata": {
  "kernelspec": {
   "display_name": "Python 3",
   "language": "python",
   "name": "python3"
  },
  "language_info": {
   "codemirror_mode": {
    "name": "ipython",
    "version": 3
   },
   "file_extension": ".py",
   "mimetype": "text/x-python",
   "name": "python",
   "nbconvert_exporter": "python",
   "pygments_lexer": "ipython3",
   "version": "3.8.5"
  }
 },
 "nbformat": 4,
 "nbformat_minor": 4
}
